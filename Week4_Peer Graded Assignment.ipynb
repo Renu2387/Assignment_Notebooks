{
 "cells": [
  {
   "cell_type": "markdown",
   "metadata": {},
   "source": [
    "<center>\n",
    "    <img src=\"https://cf-courses-data.s3.us.cloud-object-storage.appdomain.cloud/IBMDeveloperSkillsNetwork-DS0105EN-SkillsNetwork/labs/Module2/images/SN_web_lightmode.png\" width=\"300\" alt=\"cognitiveclass.ai logo\"  />\n",
    "</center>\n"
   ]
  },
  {
   "cell_type": "markdown",
   "metadata": {},
   "source": [
    "#### Add your code below following the instructions given in the course\n"
   ]
  },
  {
   "cell_type": "markdown",
   "metadata": {},
   "source": [
    "<h1> My Jupyter Notebook on IBM Watson Studio </h1>\n",
    "\n",
    "\n"
   ]
  },
  {
   "cell_type": "markdown",
   "metadata": {},
   "source": [
    "\n",
    "**Renuga Devi R**\n",
    "<p> Data Scientist </p>\n",
    "\n"
   ]
  },
  {
   "cell_type": "markdown",
   "metadata": {},
   "source": [
    "*I am interested in Data Science because, I love Statistics. Wish to explore more on Data Science*"
   ]
  },
  {
   "cell_type": "markdown",
   "metadata": {},
   "source": [
    "<h3> Accessing the List Elements </h3>"
   ]
  },
  {
   "cell_type": "code",
   "execution_count": 3,
   "metadata": {},
   "outputs": [
    {
     "data": {
      "text/plain": [
       "23"
      ]
     },
     "execution_count": 3,
     "metadata": {},
     "output_type": "execute_result"
    }
   ],
   "source": [
    "Lists=['a','Ball',23,23.10,3+6j]\n",
    "Lists[2]"
   ]
  },
  {
   "cell_type": "markdown",
   "metadata": {},
   "source": [
    "# Unordered Lists\n",
    "* This is a bullet list\n",
    "* This is a bullet list\n",
    "* This is a bullet list\n",
    "\n",
    "# Ordered List\n",
    "\n",
    "1. Apple\n",
    "2. Banana\n",
    "3. Cherry Fruit\n",
    "4. Dragon \n",
    "\n",
    "# Hyperlink\n",
    "\n",
    "My favorite search engine is [Kaggle](https://www.kaggle.com/).\n",
    "\n",
    "\n",
    "# Table\n",
    "| Left-aligned | Center-aligned | Right-aligned |\n",
    "| :---         |     :---:      |          ---: |\n",
    "| git status   | git status     | git status    |\n",
    "| git diff     | git diff       | git diff      |\n",
    "\n",
    "\n",
    "# Horizontal Rule\n",
    "/*:\n",
    "  This text is above the horizontal rule.\n",
    "  - - -\n",
    "  And this is below.\n",
    " */\n"
   ]
  }
 ],
 "metadata": {
  "kernelspec": {
   "display_name": "Python",
   "language": "python",
   "name": "conda-env-python-py"
  },
  "language_info": {
   "codemirror_mode": {
    "name": "ipython",
    "version": 3
   },
   "file_extension": ".py",
   "mimetype": "text/x-python",
   "name": "python",
   "nbconvert_exporter": "python",
   "pygments_lexer": "ipython3",
   "version": "3.7.12"
  }
 },
 "nbformat": 4,
 "nbformat_minor": 4
}
